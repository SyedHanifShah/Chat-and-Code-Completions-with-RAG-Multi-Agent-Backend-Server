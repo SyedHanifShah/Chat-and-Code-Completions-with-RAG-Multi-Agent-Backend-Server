{
 "cells": [
  {
   "cell_type": "code",
   "execution_count": 2,
   "metadata": {},
   "outputs": [],
   "source": [
    "import os \n",
    "from dotenv import load_dotenv\n",
    "from langchain_together import ChatTogether\n",
    "\n",
    "\n",
    "load_dotenv()\n",
    "\n",
    "TOGATHER_API_KEY = os.getenv(\"TOGATHER_API_KEY\")\n"
   ]
  },
  {
   "cell_type": "code",
   "execution_count": 3,
   "metadata": {},
   "outputs": [],
   "source": [
    "chat = ChatTogether(\n",
    "    together_api_key= TOGATHER_API_KEY,\n",
    "    model=\"meta-llama/Llama-3-70b-chat-hf\",\n",
    ")"
   ]
  },
  {
   "cell_type": "code",
   "execution_count": 4,
   "metadata": {},
   "outputs": [
    {
     "name": "stdout",
     "output_type": "stream",
     "text": [
      "Peshawar! The city of flowers, rich in history and culture. While it has faced its share of challenges in recent years, Peshawar is still a fascinating destination with plenty of fun things to do. Here are some ideas:\n",
      "\n",
      "1. **Explore the Old City**: Wander through the narrow streets of the ancient walled city, discovering hidden gems like the Bala Hissar Fort, the Peshawar Museum, and the Mohabbat Khan Mosque.\n",
      "2. **Visit the Peshawar Museum**: This museum showcases the region's rich history, with a collection of Gandhara art, sculptures, and artifacts from the Buddhist and Mughal periods.\n",
      "3. **Shop at the Chowk Yadgar**: This bustling marketplace offers a wide range of goods, from traditional clothing and handicrafts to souvenirs and local delicacies.\n",
      "4. **Try the local cuisine**: Peshawar is famous for its mouth-watering dishes like kebabs, haleem, and falooda. Be sure to visit the famous Namak Mandi food street or try some street food at the Chowk Yadgar.\n",
      "5. **Visit the Bala Hissar Fort**: This historic fort has been destroyed and rebuilt multiple times, with its current structure dating back to the 19th century. It offers stunning views of the city.\n",
      "6. **Take a stroll along the Kabul River**: The river runs through the heart of Peshawar and offers a peaceful escape from the hustle and bustle of the city.\n",
      "7. **Attend a cricket match**: Cricket is a beloved sport in Pakistan, and Peshawar is home to the Peshawar Zalmi cricket team. Catch a match at the Arbab Niaz Stadium for an electrifying experience.\n",
      "8. **Visit the Sethi Mohallah**: This charming neighborhood is known for its beautifully decorated houses, which are adorned with intricate wooden carvings and ornate balconies.\n",
      "9. **Go hiking in the nearby hills**: Peshawar is surrounded by hills and mountains, offering plenty of opportunities for hiking and trekking. The nearby Khyber Hills and the Margalla Hills are popular spots.\n",
      "10. **Take a day trip to the Khyber Pass**: The Khyber Pass is a historic border crossing between Pakistan and Afghanistan, with stunning views of the surrounding mountains. (Please ensure you follow all safety guidelines and regulations before planning a trip to the Khyber Pass.)\n",
      "11. **Visit the Islamia College University**: This historic university is one of the oldest in Pakistan and offers a glimpse into the country's educational heritage.\n",
      "12. **Attend a cultural festival**: Peshawar hosts various cultural festivals throughout the year, like the Peshawar Festival and the Gandhara Festival, which showcase the region's rich cultural heritage.\n",
      "13. **Take a food tour**: Peshawar is famous for its street food, and a food tour is a great way to sample the local cuisine and drinks, like kebabs, falooda, and kahwa (green tea).\n",
      "14. **Visit the Peshawar Zoo**: The Peshawar Zoo is home to a variety of animals, including lions, tigers, and bears.\n",
      "15. **Go on a photography walk**: Peshawar's old city and surrounding hills offer plenty of opportunities for capturing stunning photographs, from ancient architecture to vibrant street life.\n",
      "\n",
      "Remember to exercise caution and follow local guidelines while traveling to Peshawar, as the region has faced security challenges in the past."
     ]
    }
   ],
   "source": [
    "for m in chat.stream(\"Tell me fun things to do in Peshawer\"):\n",
    "    print(m.content, end=\"\", flush=True)"
   ]
  },
  {
   "cell_type": "code",
   "execution_count": null,
   "metadata": {},
   "outputs": [],
   "source": []
  }
 ],
 "metadata": {
  "kernelspec": {
   "display_name": "rag_gpt-7WkFLcJ7-py3.11",
   "language": "python",
   "name": "python3"
  },
  "language_info": {
   "codemirror_mode": {
    "name": "ipython",
    "version": 3
   },
   "file_extension": ".py",
   "mimetype": "text/x-python",
   "name": "python",
   "nbconvert_exporter": "python",
   "pygments_lexer": "ipython3",
   "version": "3.11.9"
  }
 },
 "nbformat": 4,
 "nbformat_minor": 2
}
